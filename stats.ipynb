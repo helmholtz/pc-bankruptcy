{
 "cells": [
  {
   "cell_type": "code",
   "execution_count": 1,
   "metadata": {
    "collapsed": true
   },
   "outputs": [],
   "source": [
    "import pandas as pd\n",
    "import pylab as pl\n",
    "import numpy as np\n",
    "import seaborn as sns\n",
    "\n",
    "%matplotlib inline"
   ]
  },
  {
   "cell_type": "code",
   "execution_count": 2,
   "metadata": {
    "collapsed": true
   },
   "outputs": [],
   "source": [
    "#Read in the cleaned data\n",
    "data = pd.read_csv('cleaned_data.csv')"
   ]
  },
  {
   "cell_type": "code",
   "execution_count": 3,
   "metadata": {
    "collapsed": false
   },
   "outputs": [
    {
     "data": {
      "text/html": [
       "<div>\n",
       "<table border=\"1\" class=\"dataframe\">\n",
       "  <thead>\n",
       "    <tr style=\"text-align: right;\">\n",
       "      <th></th>\n",
       "      <th>name</th>\n",
       "      <th>amount</th>\n",
       "      <th>zipcode</th>\n",
       "    </tr>\n",
       "  </thead>\n",
       "  <tbody>\n",
       "    <tr>\n",
       "      <th>0</th>\n",
       "      <td>A&amp;J Vineyards</td>\n",
       "      <td>4259</td>\n",
       "      <td>94101</td>\n",
       "    </tr>\n",
       "    <tr>\n",
       "      <th>1</th>\n",
       "      <td>A. L. Ballard</td>\n",
       "      <td>12959</td>\n",
       "      <td>77002</td>\n",
       "    </tr>\n",
       "    <tr>\n",
       "      <th>2</th>\n",
       "      <td>A.J. Bocchino</td>\n",
       "      <td>3449</td>\n",
       "      <td>10013</td>\n",
       "    </tr>\n",
       "    <tr>\n",
       "      <th>3</th>\n",
       "      <td>A.K. Dunlop</td>\n",
       "      <td>148</td>\n",
       "      <td>94705</td>\n",
       "    </tr>\n",
       "    <tr>\n",
       "      <th>4</th>\n",
       "      <td>Aakash Bhasin</td>\n",
       "      <td>797</td>\n",
       "      <td>10510</td>\n",
       "    </tr>\n",
       "  </tbody>\n",
       "</table>\n",
       "</div>"
      ],
      "text/plain": [
       "            name  amount zipcode\n",
       "0  A&J Vineyards    4259   94101\n",
       "1  A. L. Ballard   12959   77002\n",
       "2  A.J. Bocchino    3449   10013\n",
       "3    A.K. Dunlop     148   94705\n",
       "4  Aakash Bhasin     797   10510"
      ]
     },
     "execution_count": 3,
     "metadata": {},
     "output_type": "execute_result"
    }
   ],
   "source": [
    "#Check that it looks OK\n",
    "data.head()"
   ]
  },
  {
   "cell_type": "code",
   "execution_count": 4,
   "metadata": {
    "collapsed": false
   },
   "outputs": [
    {
     "data": {
      "image/png": "[encoded data removed]",
      "text/plain": [
       "<matplotlib.figure.Figure at 0x108c226d0>"
      ]
     },
     "metadata": {},
     "output_type": "display_data"
    }
   ],
   "source": [
    "#Plot histogram of claims (log scale)\n",
    "pl.hist(data['amount'], bins=np.logspace(1, 6, 20))\n",
    "pl.gca().set_xscale(\"log\")\n",
    "pl.xlabel('Claim Amount ($)')\n",
    "pl.ylabel('# of claims')\n",
    "pl.show()"
   ]
  },
  {
   "cell_type": "code",
   "execution_count": 5,
   "metadata": {
    "collapsed": false
   },
   "outputs": [
    {
     "data": {
      "text/html": [
       "<div>\n",
       "<table border=\"1\" class=\"dataframe\">\n",
       "  <thead>\n",
       "    <tr style=\"text-align: right;\">\n",
       "      <th></th>\n",
       "      <th>name</th>\n",
       "      <th>amount</th>\n",
       "      <th>zipcode</th>\n",
       "    </tr>\n",
       "  </thead>\n",
       "  <tbody>\n",
       "    <tr>\n",
       "      <th>494</th>\n",
       "      <td>Arthur Patterson</td>\n",
       "      <td>836534</td>\n",
       "      <td>94301</td>\n",
       "    </tr>\n",
       "    <tr>\n",
       "      <th>741</th>\n",
       "      <td>Brad Karp</td>\n",
       "      <td>711998</td>\n",
       "      <td>87501</td>\n",
       "    </tr>\n",
       "    <tr>\n",
       "      <th>251</th>\n",
       "      <td>Amanda Gong</td>\n",
       "      <td>669057</td>\n",
       "      <td>50010</td>\n",
       "    </tr>\n",
       "    <tr>\n",
       "      <th>246</th>\n",
       "      <td>Alvin Smith</td>\n",
       "      <td>645269</td>\n",
       "      <td>95030</td>\n",
       "    </tr>\n",
       "    <tr>\n",
       "      <th>686</th>\n",
       "      <td>Bo Feng</td>\n",
       "      <td>492412</td>\n",
       "      <td>Road</td>\n",
       "    </tr>\n",
       "    <tr>\n",
       "      <th>58</th>\n",
       "      <td>Adebayo Ogunlesi</td>\n",
       "      <td>479250</td>\n",
       "      <td>10028</td>\n",
       "    </tr>\n",
       "    <tr>\n",
       "      <th>120</th>\n",
       "      <td>Albert Hwang</td>\n",
       "      <td>361447</td>\n",
       "      <td>94111</td>\n",
       "    </tr>\n",
       "    <tr>\n",
       "      <th>315</th>\n",
       "      <td>Andrew Hobson</td>\n",
       "      <td>353753</td>\n",
       "      <td>06831</td>\n",
       "    </tr>\n",
       "    <tr>\n",
       "      <th>825</th>\n",
       "      <td>Brian Devine</td>\n",
       "      <td>328232</td>\n",
       "      <td>92607</td>\n",
       "    </tr>\n",
       "    <tr>\n",
       "      <th>92</th>\n",
       "      <td>Alan Factor</td>\n",
       "      <td>249404</td>\n",
       "      <td>60657</td>\n",
       "    </tr>\n",
       "    <tr>\n",
       "      <th>97</th>\n",
       "      <td>Alan Goldman</td>\n",
       "      <td>192023</td>\n",
       "      <td>30076</td>\n",
       "    </tr>\n",
       "    <tr>\n",
       "      <th>523</th>\n",
       "      <td>Atherton Imports</td>\n",
       "      <td>175000</td>\n",
       "      <td>94026</td>\n",
       "    </tr>\n",
       "    <tr>\n",
       "      <th>743</th>\n",
       "      <td>Brad Malt</td>\n",
       "      <td>172117</td>\n",
       "      <td>02108</td>\n",
       "    </tr>\n",
       "    <tr>\n",
       "      <th>466</th>\n",
       "      <td>ARF Financial</td>\n",
       "      <td>135000</td>\n",
       "      <td>94403</td>\n",
       "    </tr>\n",
       "    <tr>\n",
       "      <th>764</th>\n",
       "      <td>Bradley Radichel</td>\n",
       "      <td>131191</td>\n",
       "      <td>56002</td>\n",
       "    </tr>\n",
       "    <tr>\n",
       "      <th>697</th>\n",
       "      <td>Bob Gunderson</td>\n",
       "      <td>116370</td>\n",
       "      <td>94027</td>\n",
       "    </tr>\n",
       "    <tr>\n",
       "      <th>84</th>\n",
       "      <td>Alan Brazil</td>\n",
       "      <td>105118</td>\n",
       "      <td>07976</td>\n",
       "    </tr>\n",
       "    <tr>\n",
       "      <th>693</th>\n",
       "      <td>Bob Dickinson</td>\n",
       "      <td>95703</td>\n",
       "      <td>33143</td>\n",
       "    </tr>\n",
       "    <tr>\n",
       "      <th>788</th>\n",
       "      <td>Bret Barker</td>\n",
       "      <td>92621</td>\n",
       "      <td>90266</td>\n",
       "    </tr>\n",
       "    <tr>\n",
       "      <th>875</th>\n",
       "      <td>Brian Platnick</td>\n",
       "      <td>92119</td>\n",
       "      <td>60201</td>\n",
       "    </tr>\n",
       "  </tbody>\n",
       "</table>\n",
       "</div>"
      ],
      "text/plain": [
       "                 name  amount zipcode\n",
       "494  Arthur Patterson  836534   94301\n",
       "741         Brad Karp  711998   87501\n",
       "251       Amanda Gong  669057   50010\n",
       "246       Alvin Smith  645269   95030\n",
       "686           Bo Feng  492412    Road\n",
       "58   Adebayo Ogunlesi  479250   10028\n",
       "120      Albert Hwang  361447   94111\n",
       "315     Andrew Hobson  353753   06831\n",
       "825      Brian Devine  328232   92607\n",
       "92        Alan Factor  249404   60657\n",
       "97       Alan Goldman  192023   30076\n",
       "523  Atherton Imports  175000   94026\n",
       "743         Brad Malt  172117   02108\n",
       "466     ARF Financial  135000   94403\n",
       "764  Bradley Radichel  131191   56002\n",
       "697     Bob Gunderson  116370   94027\n",
       "84        Alan Brazil  105118   07976\n",
       "693     Bob Dickinson   95703   33143\n",
       "788       Bret Barker   92621   90266\n",
       "875    Brian Platnick   92119   60201"
      ]
     },
     "execution_count": 5,
     "metadata": {},
     "output_type": "execute_result"
    }
   ],
   "source": [
    "#Top 20 claims\n",
    "data.sort_values('amount',ascending=False)[:20]"
   ]
  },
  {
   "cell_type": "code",
   "execution_count": 6,
   "metadata": {
    "collapsed": false
   },
   "outputs": [
    {
     "data": {
      "text/plain": [
       "10687063.0"
      ]
     },
     "execution_count": 6,
     "metadata": {},
     "output_type": "execute_result"
    }
   ],
   "source": [
    "#Sum of all claims\n",
    "data['amount'].sum()"
   ]
  },
  {
   "cell_type": "code",
   "execution_count": 7,
   "metadata": {
    "collapsed": false
   },
   "outputs": [
    {
     "data": {
      "text/plain": [
       "1064.5"
      ]
     },
     "execution_count": 7,
     "metadata": {},
     "output_type": "execute_result"
    }
   ],
   "source": [
    "#Median claim amount\n",
    "data['amount'].median()"
   ]
  },
  {
   "cell_type": "code",
   "execution_count": 8,
   "metadata": {
    "collapsed": false
   },
   "outputs": [
    {
     "data": {
      "text/plain": [
       "94611    9\n",
       "94118    6\n",
       "94115    6\n",
       "10023    5\n",
       "95014    5\n",
       "94301    5\n",
       "94941    5\n",
       "94920    5\n",
       "20008    4\n",
       "94707    4\n",
       "94708    4\n",
       "10003    4\n",
       "10014    4\n",
       "60093    4\n",
       "90210    4\n",
       "10028    4\n",
       "33149    4\n",
       "90069    4\n",
       "06831    3\n",
       "10021    3\n",
       "Name: zipcode, dtype: int64"
      ]
     },
     "execution_count": 8,
     "metadata": {},
     "output_type": "execute_result"
    }
   ],
   "source": [
    "#Top 20 zip codes by # of claims\n",
    "data['zipcode'].value_counts()[:20]"
   ]
  },
  {
   "cell_type": "code",
   "execution_count": 9,
   "metadata": {
    "collapsed": false
   },
   "outputs": [
    {
     "data": {
      "text/plain": [
       "<matplotlib.axes._subplots.AxesSubplot at 0x10d0371d0>"
      ]
     },
     "execution_count": 9,
     "metadata": {},
     "output_type": "execute_result"
    },
    {
     "data": {
      "image/png": "[encoded data removed]",
      "text/plain": [
       "<matplotlib.figure.Figure at 0x10cf0ba90>"
      ]
     },
     "metadata": {},
     "output_type": "display_data"
    }
   ],
   "source": [
    "#Top 20 zipcodes by amount\n",
    "grouped = data.groupby('zipcode')\n",
    "grouped['amount'].aggregate(np.sum).sort_values(ascending=False)[:20].plot(kind='bar')"
   ]
  },
  {
   "cell_type": "code",
   "execution_count": null,
   "metadata": {
    "collapsed": true
   },
   "outputs": [],
   "source": []
  }
 ],
 "metadata": {
  "kernelspec": {
   "display_name": "Python 2",
   "language": "python",
   "name": "python2"
  },
  "language_info": {
   "codemirror_mode": {
    "name": "ipython",
    "version": 2
   },
   "file_extension": ".py",
   "mimetype": "text/x-python",
   "name": "python",
   "nbconvert_exporter": "python",
   "pygments_lexer": "ipython2",
   "version": "2.7.2"
  }
 },
 "nbformat": 4,
 "nbformat_minor": 0
}
